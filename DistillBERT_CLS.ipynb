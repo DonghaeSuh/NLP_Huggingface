{
 "cells": [
  {
   "cell_type": "markdown",
   "metadata": {},
   "source": [
    "### Huggingface hub datasets"
   ]
  },
  {
   "cell_type": "code",
   "execution_count": 10,
   "metadata": {},
   "outputs": [
    {
     "name": "stderr",
     "output_type": "stream",
     "text": [
      "c:\\Users\\user\\anaconda3\\envs\\nlp1\\Lib\\site-packages\\transformers\\generation_utils.py:24: FutureWarning: Importing `GenerationMixin` from `src/transformers/generation_utils.py` is deprecated and will be removed in Transformers v5. Import as `from transformers import GenerationMixin` instead.\n",
      "  warnings.warn(\n",
      "c:\\Users\\user\\anaconda3\\envs\\nlp1\\Lib\\site-packages\\torchaudio\\backend\\utils.py:74: UserWarning: No audio backend is available.\n",
      "  warnings.warn(\"No audio backend is available.\")\n",
      "Xformers is not installed correctly. If you want to use memory_efficient_attention to accelerate training use the following command to install Xformers\n",
      "pip install xformers.\n"
     ]
    }
   ],
   "source": [
    "from transformers import *"
   ]
  },
  {
   "cell_type": "code",
   "execution_count": 14,
   "metadata": {},
   "outputs": [],
   "source": [
    "from huggingface_hub import list_datasets"
   ]
  },
  {
   "cell_type": "code",
   "execution_count": 32,
   "metadata": {},
   "outputs": [],
   "source": [
    "all_datasets=list_datasets()"
   ]
  },
  {
   "cell_type": "code",
   "execution_count": 33,
   "metadata": {},
   "outputs": [
    {
     "data": {
      "text/plain": [
       "DatasetInfo: { \n",
       "  {'_id': '621ffdd236468d709f181d58',\n",
       "   'author': None,\n",
       "   'cardData': None,\n",
       "   'citation': '@inproceedings{veyseh-et-al-2020-what,\\n'\n",
       "               '   title={{What Does This Acronym Mean? Introducing a New Dataset for Acronym Identification and '\n",
       "               'Disambiguation}},\\n'\n",
       "               '   author={Amir Pouran Ben Veyseh and Franck Dernoncourt and Quan Hung Tran and Thien Huu Nguyen},\\n'\n",
       "               '   year={2020},\\n'\n",
       "               '   booktitle={Proceedings of COLING},\\n'\n",
       "               '   link={https://arxiv.org/pdf/2010.14678v1.pdf}\\n'\n",
       "               '}',\n",
       "   'description': 'Acronym identification training and development sets for the acronym identification task at '\n",
       "                  'SDU@AAAI-21.',\n",
       "   'disabled': False,\n",
       "   'downloads': 3273,\n",
       "   'gated': False,\n",
       "   'id': 'acronym_identification',\n",
       "   'lastModified': '2023-01-25T14:18:28.000Z',\n",
       "   'likes': 17,\n",
       "   'paperswithcode_id': 'acronym-identification',\n",
       "   'private': False,\n",
       "   'sha': 'c3c245a18bbd57b1682b099e14460eebf154cbdf',\n",
       "   'siblings': [],\n",
       "   'tags': ['task_categories:token-classification', 'annotations_creators:expert-generated', 'language_creators:found',\n",
       "            'multilinguality:monolingual', 'size_categories:10K<n<100K', 'source_datasets:original', 'language:en',\n",
       "            'license:mit', 'acronym-identification', 'arxiv:2010.14678', 'region:us']}\n",
       "}"
      ]
     },
     "execution_count": 33,
     "metadata": {},
     "output_type": "execute_result"
    }
   ],
   "source": [
    "next(all_datasets)"
   ]
  },
  {
   "cell_type": "code",
   "execution_count": null,
   "metadata": {},
   "outputs": [],
   "source": []
  }
 ],
 "metadata": {
  "kernelspec": {
   "display_name": "nlp1",
   "language": "python",
   "name": "python3"
  },
  "language_info": {
   "codemirror_mode": {
    "name": "ipython",
    "version": 3
   },
   "file_extension": ".py",
   "mimetype": "text/x-python",
   "name": "python",
   "nbconvert_exporter": "python",
   "pygments_lexer": "ipython3",
   "version": "3.11.4"
  }
 },
 "nbformat": 4,
 "nbformat_minor": 2
}
